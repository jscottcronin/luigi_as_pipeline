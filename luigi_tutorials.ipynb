{
 "cells": [
  {
   "cell_type": "code",
   "execution_count": 1,
   "metadata": {
    "collapsed": true
   },
   "outputs": [],
   "source": [
    "import pandas as pd\n",
    "import numpy as np\n",
    "import matplotlib.pyplot as plt\n",
    "import seaborn as sns\n",
    "import luigi\n",
    "\n",
    "%matplotlib inline\n",
    "sns.set_context('notebook', font_scale=1.6)"
   ]
  },
  {
   "cell_type": "code",
   "execution_count": 2,
   "metadata": {
    "collapsed": true
   },
   "outputs": [],
   "source": [
    "class AggregateArtists(luigi.Task):\n",
    "    date_interval = luigi.DateIntervalParameter()\n",
    "\n",
    "    def output(self):\n",
    "        return luigi.LocalTarget(\"data/artist_streams_%s.tsv\" % self.date_interval)\n",
    "\n",
    "    def requires(self):\n",
    "        return [Streams(date) for date in self.date_interval]\n",
    "\n",
    "    def run(self):\n",
    "        artist_count = defaultdict(int)\n",
    "\n",
    "        for input in self.input():\n",
    "            with input.open('r') as in_file:\n",
    "                for line in in_file:\n",
    "                    timestamp, artist, track = line.strip().split()\n",
    "                    artist_count[artist] += 1\n",
    "\n",
    "        with self.output().open('w') as out_file:\n",
    "            for artist, count in artist_count.iteritems():\n",
    "                print >> out_file, artist, count"
   ]
  },
  {
   "cell_type": "code",
   "execution_count": null,
   "metadata": {
    "collapsed": true
   },
   "outputs": [],
   "source": []
  }
 ],
 "metadata": {
  "kernelspec": {
   "display_name": "Python 2",
   "language": "python",
   "name": "python2"
  },
  "language_info": {
   "codemirror_mode": {
    "name": "ipython",
    "version": 2
   },
   "file_extension": ".py",
   "mimetype": "text/x-python",
   "name": "python",
   "nbconvert_exporter": "python",
   "pygments_lexer": "ipython2",
   "version": "2.7.9"
  },
  "toc": {
   "toc_cell": false,
   "toc_number_sections": true,
   "toc_threshold": 6,
   "toc_window_display": false
  }
 },
 "nbformat": 4,
 "nbformat_minor": 0
}
